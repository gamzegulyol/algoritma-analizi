{
 "cells": [
  {
   "cell_type": "code",
   "execution_count": 1,
   "metadata": {},
   "outputs": [
    {
     "data": {
      "text/plain": [
       "(1342245434, 0)"
      ]
     },
     "execution_count": 1,
     "metadata": {},
     "output_type": "execute_result"
    }
   ],
   "source": [
    "def findMax(my_list):\n",
    "    max=my_list[0]\n",
    "    s=-1\n",
    "    for i in range(len(my_list)):\n",
    "        if(max<=my_list[i]):\n",
    "            max=my_list[i]\n",
    "            s=i\n",
    "    return max,s\n",
    "\n",
    "list_1=[1342245434,24124214,3,4,5,56,6,71,77,566,234,534,377,52,2768]\n",
    "findMax(list_1)\n"
   ]
  },
  {
   "cell_type": "code",
   "execution_count": 2,
   "metadata": {},
   "outputs": [
    {
     "data": {
      "text/plain": [
       "(99999987, 4427396)"
      ]
     },
     "execution_count": 2,
     "metadata": {},
     "output_type": "execute_result"
    }
   ],
   "source": [
    "import random\n",
    "def generate_numbers(n):\n",
    "    numbers=[]\n",
    "    for i in range(n):\n",
    "        s=random.randint(0,100000000)\n",
    "        numbers.append(s)\n",
    "    return numbers\n",
    "\n",
    "findMax(generate_numbers(10000000))\n"
   ]
  },
  {
   "cell_type": "code",
   "execution_count": 3,
   "metadata": {},
   "outputs": [],
   "source": [
    "import time\n",
    "def recursive_fibo(n):\n",
    "    if(n<2):\n",
    "        return n\n",
    "    else:\n",
    "        return recursive_fibo(n-1)+recursive_fibo(n-2)\n"
   ]
  },
  {
   "cell_type": "code",
   "execution_count": 4,
   "metadata": {},
   "outputs": [
    {
     "name": "stdout",
     "output_type": "stream",
     "text": [
      "0 1 1 2 3 5 8 13 21 34 55 89 144 233 377 "
     ]
    }
   ],
   "source": [
    "for i in range(15):\n",
    "    s=recursive_fibo(i)\n",
    "    print(s,end=\" \")\n"
   ]
  },
  {
   "cell_type": "code",
   "execution_count": null,
   "metadata": {},
   "outputs": [],
   "source": [
    "baslangic=time.time()\n",
    "s=recursive_fibo(40)\n",
    "print(s,end=\" \")\n",
    "bitis=time.time()\n",
    "print(\"zaman=\",bitis-baslangic)\n"
   ]
  },
  {
   "cell_type": "code",
   "execution_count": null,
   "metadata": {},
   "outputs": [],
   "source": []
  }
 ],
 "metadata": {
  "kernelspec": {
   "display_name": "Python 3",
   "language": "python",
   "name": "python3"
  },
  "language_info": {
   "codemirror_mode": {
    "name": "ipython",
    "version": 3
   },
   "file_extension": ".py",
   "mimetype": "text/x-python",
   "name": "python",
   "nbconvert_exporter": "python",
   "pygments_lexer": "ipython3",
   "version": "3.7.0"
  }
 },
 "nbformat": 4,
 "nbformat_minor": 2
}
