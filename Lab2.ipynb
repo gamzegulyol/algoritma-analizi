{
 "cells": [
  {
   "cell_type": "code",
   "execution_count": 1,
   "metadata": {},
   "outputs": [],
   "source": [
    "sayac=0\n",
    "def power_1(m,n):\n",
    "    t=1\n",
    "    global sayac\n",
    "    for i in range(n):\n",
    "        sayac=sayac+1\n",
    "        t=t*m\n",
    "    return (t,sayac)\n"
   ]
  },
  {
   "cell_type": "code",
   "execution_count": 2,
   "metadata": {},
   "outputs": [],
   "source": [
    "def call_report(x,y):\n",
    "    global sayac\n",
    "    sayac=0\n",
    "    r=power_1(x,y)\n",
    "    print(\"Recursive olmayan : \",x,\" üzeri \", y,\" değeri : \",r[0],\"çağrım sayısı: \",r[1])\n"
   ]
  },
  {
   "cell_type": "code",
   "execution_count": 3,
   "metadata": {},
   "outputs": [],
   "source": [
    "def power_2(x,n):\n",
    "    global sayac\n",
    "    sayac=sayac+1\n",
    "    if(n==0):\n",
    "        return 1\n",
    "    if(n==1):\n",
    "        return x\n",
    "    if(n%2==0):\n",
    "        return power_2(x*x,int(n/2))\n",
    "    else:\n",
    "        return power_2(x*x,int(n/2))*x"
   ]
  },
  {
   "cell_type": "code",
   "execution_count": 4,
   "metadata": {},
   "outputs": [],
   "source": [
    "def call_report_recursive(x,y):\n",
    "    global sayac\n",
    "    sayac=0\n",
    "    r=power_2(x,y)\n",
    "    print(x,\" üzeri\", y,\" değeri\",r ,\" çağrım sayısı : \",sayac)"
   ]
  },
  {
   "cell_type": "code",
   "execution_count": 5,
   "metadata": {},
   "outputs": [
    {
     "name": "stdout",
     "output_type": "stream",
     "text": [
      "Recursive olmayan :  2  üzeri  8  değeri :  256 çağrım sayısı:  8\n",
      "2  üzeri 8  değeri 256  çağrım sayısı :  4\n",
      "2  üzeri 16  değeri 65536  çağrım sayısı :  5\n",
      "2  üzeri 32  değeri 4294967296  çağrım sayısı :  6\n",
      "2  üzeri 8  değeri 256  çağrım sayısı :  4\n"
     ]
    }
   ],
   "source": [
    "call_report(2,8)\n",
    "call_report_recursive(2,8)\n",
    "call_report_recursive(2,16)\n",
    "call_report_recursive(2,32)\n",
    "call_report_recursive(2,8)\n"
   ]
  },
  {
   "cell_type": "code",
   "execution_count": null,
   "metadata": {},
   "outputs": [],
   "source": []
  }
 ],
 "metadata": {
  "kernelspec": {
   "display_name": "Python 3",
   "language": "python",
   "name": "python3"
  },
  "language_info": {
   "codemirror_mode": {
    "name": "ipython",
    "version": 3
   },
   "file_extension": ".py",
   "mimetype": "text/x-python",
   "name": "python",
   "nbconvert_exporter": "python",
   "pygments_lexer": "ipython3",
   "version": "3.7.0"
  }
 },
 "nbformat": 4,
 "nbformat_minor": 2
}
